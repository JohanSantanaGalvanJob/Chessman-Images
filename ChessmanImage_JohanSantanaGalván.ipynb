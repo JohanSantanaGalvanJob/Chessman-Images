{
  "nbformat": 4,
  "nbformat_minor": 0,
  "metadata": {
    "colab": {
      "provenance": [],
      "mount_file_id": "1GWoW219_n7I0tVhXclFerjtDy-z_uF04",
      "authorship_tag": "ABX9TyPcenwgJ2nax70Quuhm2b7N",
      "include_colab_link": true
    },
    "kernelspec": {
      "name": "python3",
      "display_name": "Python 3"
    },
    "language_info": {
      "name": "python"
    }
  },
  "cells": [
    {
      "cell_type": "markdown",
      "metadata": {
        "id": "view-in-github",
        "colab_type": "text"
      },
      "source": [
        "<a href=\"https://colab.research.google.com/github/JohanSantanaGalvanJob/Chessman-Images/blob/main/ChessmanImage_JohanSantanaGalv%C3%A1n.ipynb\" target=\"_parent\"><img src=\"https://colab.research.google.com/assets/colab-badge.svg\" alt=\"Open In Colab\"/></a>"
      ]
    },
    {
      "cell_type": "markdown",
      "source": [
        "Johan Santana Galván"
      ],
      "metadata": {
        "id": "jhPD2tHGI6-m"
      }
    },
    {
      "cell_type": "markdown",
      "source": [
        "Importamos las librerías que vamos a usar."
      ],
      "metadata": {
        "id": "Ade1LI8gcB9g"
      }
    },
    {
      "cell_type": "code",
      "execution_count": 94,
      "metadata": {
        "id": "bHc_Nv1uIrOT"
      },
      "outputs": [],
      "source": [
        "import numpy as np\n",
        "import matplotlib.pyplot as plt\n",
        "import pandas as pd\n",
        "import keras\n",
        "import urllib.request\n",
        "import zipfile\n",
        "import cv2\n",
        "import os\n",
        "import glob\n",
        "import random\n",
        "import seaborn as sns\n",
        "from sklearn.metrics import confusion_matrix, accuracy_score"
      ]
    },
    {
      "cell_type": "markdown",
      "source": [
        "Esta es la URL que vamos a tomar de referencia"
      ],
      "metadata": {
        "id": "PRiAElAvcMeO"
      }
    },
    {
      "cell_type": "code",
      "source": [
        "url = \"/content/drive/MyDrive/Chessman_Images/Chessman-image-dataset/Chess\""
      ],
      "metadata": {
        "id": "wsf4GizhJGaH"
      },
      "execution_count": 95,
      "outputs": []
    },
    {
      "cell_type": "markdown",
      "source": [
        "Y estos son los tipos de subcarpetas que tenemos en el conjunto de datos"
      ],
      "metadata": {
        "id": "vUPeGawucQCS"
      }
    },
    {
      "cell_type": "code",
      "source": [
        "# Esta variable contiene un mapeo de número de clase a personaje.\n",
        "# Utilizamos sólo los 18 personajes del dataset que tienen más imágenes.\n",
        "MAP_CHARACTERS = {\n",
        "    0: 'Bishop', 1: 'King', 2: 'Knight',\n",
        "    3: 'Pawn', 4: 'Queen', 5: 'Rook'\n",
        "}"
      ],
      "metadata": {
        "id": "wpNlMg8HNte6"
      },
      "execution_count": 96,
      "outputs": []
    },
    {
      "cell_type": "markdown",
      "source": [
        "Aquí podemos ver que usaremos el tamaño de la imagen a 64x64."
      ],
      "metadata": {
        "id": "_-Ed8jDTcVNP"
      }
    },
    {
      "cell_type": "code",
      "source": [
        "IMG_SIZE = 64"
      ],
      "metadata": {
        "id": "8zzQYXisG_Sh"
      },
      "execution_count": 97,
      "outputs": []
    },
    {
      "cell_type": "markdown",
      "source": [
        "Este es nuestro método de entrenamiento, se cargan los datos de training en imágenes y se excluyen las que ya han sido seleccionadas para el test.\n",
        "\n",
        "Debemos también readaptar el tamaño de las imágenes a 64x64 y con esto tenemos que tener en cuenta otra serie de variables:\n",
        "\n",
        "dirname: directorio completo del que leer los datos\n",
        "\n",
        "map_characters: variable de mapeo entre labels y personajes\n",
        "\n",
        "selected_test_images: conjunto de nombres de archivo de las imágenes seleccionadas para el conjunto de prueba\n",
        "\n",
        "verbose: si es True, muestra información de las imágenes cargadas"
      ],
      "metadata": {
        "id": "JHszxJMvceuE"
      }
    },
    {
      "cell_type": "code",
      "source": [
        "def load_train_set(dirname, map_characters, selected_test_images, verbose=True):\n",
        "    X_train = []\n",
        "    y_train = []\n",
        "    for label, character in map_characters.items():\n",
        "        files = os.listdir(os.path.join(dirname, character))\n",
        "        images = [file for file in files if file.endswith('jpg') or\n",
        "                  file.endswith('JPG') or file.endswith('jpeg') or file.endswith('png')\n",
        "                  or file.endswith('php') or file.endswith('fcgi') or file.endswith('webp')]\n",
        "\n",
        "        # Filtrar las imágenes seleccionadas para el conjunto de prueba\n",
        "        images = [image for image in images if os.path.join(character, image) not in selected_test_images]\n",
        "        if verbose:\n",
        "            print(\"Leyendo {} imágenes encontradas de {} TRAIN\".format(len(images), character))\n",
        "        for image_name in images:\n",
        "            image = cv2.imread(os.path.join(dirname, character, image_name))\n",
        "            X_train.append(cv2.resize(image, (IMG_SIZE, IMG_SIZE)))\n",
        "            y_train.append(label)\n",
        "\n",
        "    return np.array(X_train), np.array(y_train)"
      ],
      "metadata": {
        "id": "z3jr--LJHJ1v"
      },
      "execution_count": 98,
      "outputs": []
    },
    {
      "cell_type": "markdown",
      "source": [
        "Este es nuestro método de test en el que se hace básicamente lo mismo que con train pero solamente seleccionamos el 20% de cada carpeta de imágenes. Esto se hace porque cada carpeta contiene un número de datos distinto. Por ejemplo la carpeta Bishop tiene 86 imágenes mientras que la Knight tiene 106. Además, las imágenes seleccionadas de test son aleatorias y luego en los de train NO deben coincidir de tal forma que están bien diferenciados"
      ],
      "metadata": {
        "id": "o3C0HhbddC6Z"
      }
    },
    {
      "cell_type": "code",
      "source": [
        "def load_test_set(dirname, map_characters, verbose=True):\n",
        "    X_test = []\n",
        "    y_test = []\n",
        "    selected_images_count = {}  # Contador para el número de imágenes seleccionadas por carpeta\n",
        "    reverse_dict = {v: k for k, v in map_characters.items()}\n",
        "\n",
        "    selected_test_images = set()  # Conjunto para almacenar los nombres de archivo de las imágenes seleccionadas para el conjunto de prueba\n",
        "\n",
        "    for label, character in map_characters.items():\n",
        "        files = os.listdir(os.path.join(dirname, character))\n",
        "        images = [file for file in files if file.endswith('jpg') or\n",
        "                  file.endswith('JPG') or file.endswith('jpeg') or file.endswith('png')\n",
        "                  or file.endswith('php') or file.endswith('fcgi') or file.endswith('webp')]\n",
        "        if verbose:\n",
        "            print(\"Leyendo {} imágenes encontradas de {} TEST\".format(len(images), character))\n",
        "        images_to_pick = max(1, int(len(images) * 0.2))  # Selecciona el 20% de las imágenes de la carpeta\n",
        "        selected_images = random.sample(images, images_to_pick)\n",
        "        selected_images_count[character] = len(selected_images)  # Guarda el número de imágenes seleccionadas\n",
        "        for image_name in selected_images:\n",
        "            image = cv2.imread(os.path.join(dirname, character, image_name))\n",
        "            X_test.append(cv2.resize(image, (IMG_SIZE, IMG_SIZE)))\n",
        "            y_test.append(reverse_dict[character])\n",
        "            selected_test_images.add(os.path.join(character, image_name))  # Agrega el nombre de archivo al conjunto de imágenes seleccionadas\n",
        "\n",
        "    if verbose:\n",
        "        print(\"Leídas {} imágenes de test\".format(len(X_test)))\n",
        "        print(\"Número de imágenes seleccionadas por carpeta:\")\n",
        "        for character, count in selected_images_count.items():\n",
        "            print(\"{}: {}\".format(character, count))\n",
        "\n",
        "    return np.array(X_test), np.array(y_test), selected_test_images"
      ],
      "metadata": {
        "id": "S4kLfcPHHcnX"
      },
      "execution_count": 99,
      "outputs": []
    },
    {
      "cell_type": "markdown",
      "source": [
        "Primero vamos a cargar los datos de test y luego los de train para que las imágenes sean completamente descartadas luego en el train. Después en el resultado veremos que test lee absolutamente todas las imágenes de las carpetas y se queda con el 20% de cada una. Y después Train se queda con el resto de imágenes."
      ],
      "metadata": {
        "id": "--_SopWk4Yiy"
      }
    },
    {
      "cell_type": "code",
      "source": [
        "# Cargamos los datos. Si no estás trabajando en colab, cambia los paths por\n",
        "# los de los ficheros donde hayas descargado los datos.\n",
        "DATASET_TRAIN_PATH_COLAB = \"/content/drive/MyDrive/Chessman_Images/Chessman-image-dataset/Chess\"\n",
        "\n",
        "X_t, y_t, test_images = load_test_set(DATASET_TRAIN_PATH_COLAB, MAP_CHARACTERS)\n",
        "X, y = load_train_set(DATASET_TRAIN_PATH_COLAB, MAP_CHARACTERS, test_images)"
      ],
      "metadata": {
        "colab": {
          "base_uri": "https://localhost:8080/"
        },
        "id": "L7xhngbzHgfC",
        "outputId": "dc126966-113e-472b-9482-d1191b9b2740"
      },
      "execution_count": 100,
      "outputs": [
        {
          "output_type": "stream",
          "name": "stdout",
          "text": [
            "Leyendo 86 imágenes encontradas de Bishop TEST\n",
            "Leyendo 76 imágenes encontradas de King TEST\n",
            "Leyendo 106 imágenes encontradas de Knight TEST\n",
            "Leyendo 107 imágenes encontradas de Pawn TEST\n",
            "Leyendo 78 imágenes encontradas de Queen TEST\n",
            "Leyendo 102 imágenes encontradas de Rook TEST\n",
            "Leídas 109 imágenes de test\n",
            "Número de imágenes seleccionadas por carpeta:\n",
            "Bishop: 17\n",
            "King: 15\n",
            "Knight: 21\n",
            "Pawn: 21\n",
            "Queen: 15\n",
            "Rook: 20\n",
            "Leyendo 69 imágenes encontradas de Bishop TRAIN\n",
            "Leyendo 61 imágenes encontradas de King TRAIN\n",
            "Leyendo 85 imágenes encontradas de Knight TRAIN\n",
            "Leyendo 86 imágenes encontradas de Pawn TRAIN\n",
            "Leyendo 63 imágenes encontradas de Queen TRAIN\n",
            "Leyendo 82 imágenes encontradas de Rook TRAIN\n"
          ]
        }
      ]
    },
    {
      "cell_type": "markdown",
      "source": [
        "Vamos a realizar la permutación de las variables."
      ],
      "metadata": {
        "id": "zKS6IeIl5Zld"
      }
    },
    {
      "cell_type": "code",
      "source": [
        "perm = np.random.permutation(len(X))\n",
        "X, y = X[perm], y[perm]"
      ],
      "metadata": {
        "id": "8jEgsUuBMwwQ"
      },
      "execution_count": 101,
      "outputs": []
    },
    {
      "cell_type": "markdown",
      "source": [
        "Asimismo, realizaremos la normalización de las imágenes."
      ],
      "metadata": {
        "id": "h8Wlt4OX5dme"
      }
    },
    {
      "cell_type": "code",
      "source": [
        "# Preprocessing normalización de las imágenes\n",
        "X = X / 255.0\n",
        "X_t = X_t / 255.0"
      ],
      "metadata": {
        "id": "uHTiw5Xc0M5K"
      },
      "execution_count": 102,
      "outputs": []
    },
    {
      "cell_type": "markdown",
      "source": [
        "Ahora vamos a ver un ejemplo sencillo para ver las imágenes cargadas a la resolución que es."
      ],
      "metadata": {
        "id": "-PGzgT9X5m01"
      }
    },
    {
      "cell_type": "code",
      "source": [
        "def visualize_example(x):\n",
        "  plt.figure()\n",
        "  plt.imshow(x)\n",
        "  plt.colorbar()\n",
        "  plt.grid(False)\n",
        "  plt.show()"
      ],
      "metadata": {
        "id": "MXaRrS2O05cV"
      },
      "execution_count": 103,
      "outputs": []
    },
    {
      "cell_type": "code",
      "source": [
        "visualize_example(X[70]) # Visualiza la imagen normalizada con valores de 0 a 1\n",
        "print(MAP_CHARACTERS[y[70]]) # Acceso al diccionario\n",
        "print(X[70].shape[0:3]) # Dimensiones de la imagen tras resize con los 3 canales RGB"
      ],
      "metadata": {
        "colab": {
          "base_uri": "https://localhost:8080/",
          "height": 470
        },
        "id": "pSIKF7QT07xM",
        "outputId": "701db76b-1bff-417c-ca26-b27ad34b5a85"
      },
      "execution_count": 104,
      "outputs": [
        {
          "output_type": "display_data",
          "data": {
            "text/plain": [
              "<Figure size 640x480 with 2 Axes>"
            ],
            "image/png": "[encoded data removed]"
          },
          "metadata": {}
        },
        {
          "output_type": "stream",
          "name": "stdout",
          "text": [
            "Knight\n",
            "(64, 64, 3)\n"
          ]
        }
      ]
    },
    {
      "cell_type": "markdown",
      "source": [
        "Aquí se definen algunas variables para que luego sean usadas como el número de clases (viene a ser el número de carpetas), las épocas, entre otros."
      ],
      "metadata": {
        "id": "QN7ytoWh51n7"
      }
    },
    {
      "cell_type": "code",
      "source": [
        "num_classes=6\n",
        "epochs=5\n",
        "img_rows,img_cols=IMG_SIZE,IMG_SIZE\n",
        "input_shape=(img_rows,img_cols,3) #(64,64,3)"
      ],
      "metadata": {
        "id": "ovxl5nXk1CKu"
      },
      "execution_count": 105,
      "outputs": []
    },
    {
      "cell_type": "code",
      "source": [
        "# convert class vectors to binary class matrices\n",
        "y=keras.utils.to_categorical(y,num_classes)\n",
        "y_t=keras.utils.to_categorical(y_t,num_classes)"
      ],
      "metadata": {
        "id": "-BoK7btE1HWO"
      },
      "execution_count": 106,
      "outputs": []
    },
    {
      "cell_type": "code",
      "source": [
        "X.shape"
      ],
      "metadata": {
        "colab": {
          "base_uri": "https://localhost:8080/"
        },
        "id": "KjElALmI1LlW",
        "outputId": "b1f3d488-07bc-47f5-dd88-a79b896eff75"
      },
      "execution_count": 53,
      "outputs": [
        {
          "output_type": "execute_result",
          "data": {
            "text/plain": [
              "(446, 64, 64, 3)"
            ]
          },
          "metadata": {},
          "execution_count": 53
        }
      ]
    },
    {
      "cell_type": "code",
      "source": [
        "y.shape"
      ],
      "metadata": {
        "colab": {
          "base_uri": "https://localhost:8080/"
        },
        "id": "HxfsPyHh1OS7",
        "outputId": "c2259130-ae22-4723-ee07-0b932b72cad2"
      },
      "execution_count": 54,
      "outputs": [
        {
          "output_type": "execute_result",
          "data": {
            "text/plain": [
              "(446, 6)"
            ]
          },
          "metadata": {},
          "execution_count": 54
        }
      ]
    },
    {
      "cell_type": "markdown",
      "source": [
        "Lo siguiente es cargar un modelo de los disponibles de keras (en este caso el relu) y se definen las distintas neuronas que vamos a usar en nuestro modelo. En ambos modelos he usado el Dropout."
      ],
      "metadata": {
        "id": "r-EtSLd96EOV"
      }
    },
    {
      "cell_type": "markdown",
      "source": [
        "Conv2D es una capa convolucional 2D que aplica 32 filtros (también conocidos como kernels) de tamaño 3x3 en la entrada. La entrada se espera que tenga una forma de (64, 64, 3), que es el tamaño de las imágenes de entrada en formato (altura, ancho, canales).\n",
        "\n",
        "MaxPooling2D es una capa de agrupamiento 2D que reduce la dimensionalidad de la salida de la capa convolucional aplicando un filtro de agrupamiento.\n",
        "\n",
        "Flatten se utiliza para aplanar la salida de la capa anterior en un vector unidimensional. Esto es necesario para conectar las capas densamente conectadas.\n",
        "\n",
        "Dense es una capa densa con 500 neuronas (o unidades) y utiliza la función de activación ReLU."
      ],
      "metadata": {
        "id": "Tjnta1sdMvz2"
      }
    },
    {
      "cell_type": "code",
      "source": [
        "model = keras.Sequential([\n",
        "    keras.layers.Conv2D(64, kernel_size=(3, 3), data_format=\"channels_last\", input_shape=(64, 64, 3), activation='relu'),\n",
        "    keras.layers.MaxPooling2D(pool_size=(2, 2)),\n",
        "    keras.layers.Conv2D(128, kernel_size=(3, 3), activation='relu'),\n",
        "    keras.layers.MaxPooling2D(pool_size=(2, 2)),\n",
        "    keras.layers.Conv2D(256, kernel_size=(3, 3), activation='relu'),\n",
        "    keras.layers.MaxPooling2D(pool_size=(2, 2)),\n",
        "    keras.layers.Flatten(),\n",
        "    keras.layers.Dense(1024, activation='relu'),\n",
        "    keras.layers.Dropout(0.5),\n",
        "    keras.layers.Dense(512, activation='relu'),\n",
        "    keras.layers.Dropout(0.5),\n",
        "    keras.layers.Dense(num_classes, activation='softmax')\n",
        "])"
      ],
      "metadata": {
        "id": "7u7-5dIa1ZsK"
      },
      "execution_count": 107,
      "outputs": []
    },
    {
      "cell_type": "markdown",
      "source": [
        "Este es el mismo esquema pero ahora con la sigmoide y ejecutando uno u otro podemos hacer una comparativa simple de precisión en nuestro modelo (probando con este modelo no he conseguido ni de cerca un mejor resultado que con relu). De todas formas teorizo que aunque tocara valores como el dropout u otros, no conseguiría subir mucho la precisión del modelo, por lo que creo que no es el más idóneo para este caso concreto."
      ],
      "metadata": {
        "id": "z_1lurB4HZBZ"
      }
    },
    {
      "cell_type": "code",
      "source": [
        "model = keras.Sequential([\n",
        "    keras.layers.Conv2D(32, kernel_size=(3, 3), data_format=\"channels_last\", input_shape=(64, 64, 3), activation='sigmoid'),\n",
        "    keras.layers.MaxPooling2D(pool_size=(2, 2)),\n",
        "    keras.layers.Conv2D(128, kernel_size=(3, 3), activation='sigmoid'),\n",
        "    keras.layers.MaxPooling2D(pool_size=(2, 2)),\n",
        "    keras.layers.Conv2D(512, kernel_size=(3, 3), activation='sigmoid'),\n",
        "    keras.layers.MaxPooling2D(pool_size=(2, 2)),\n",
        "    keras.layers.MaxPooling2D(pool_size=(2, 2)),\n",
        "    keras.layers.Flatten(),\n",
        "    keras.layers.Dense(500, activation='sigmoid'),\n",
        "    keras.layers.Dropout(0.15),\n",
        "    keras.layers.Dense(num_classes, activation='softmax')\n",
        "])"
      ],
      "metadata": {
        "id": "SIdzLVlIGrB0"
      },
      "execution_count": null,
      "outputs": []
    },
    {
      "cell_type": "code",
      "source": [
        "model.summary()\n",
        "model.compile(optimizer='adam',\n",
        "loss='categorical_crossentropy',\n",
        "metrics=['accuracy'])"
      ],
      "metadata": {
        "colab": {
          "base_uri": "https://localhost:8080/"
        },
        "id": "v1MiBAhM1bSp",
        "outputId": "dbec6a8d-f4ce-400b-dffb-e9328f125f1f"
      },
      "execution_count": 108,
      "outputs": [
        {
          "output_type": "stream",
          "name": "stdout",
          "text": [
            "Model: \"sequential_7\"\n",
            "_________________________________________________________________\n",
            " Layer (type)                Output Shape              Param #   \n",
            "=================================================================\n",
            " conv2d_21 (Conv2D)          (None, 62, 62, 64)        1792      \n",
            "                                                                 \n",
            " max_pooling2d_26 (MaxPooli  (None, 31, 31, 64)        0         \n",
            " ng2D)                                                           \n",
            "                                                                 \n",
            " conv2d_22 (Conv2D)          (None, 29, 29, 128)       73856     \n",
            "                                                                 \n",
            " max_pooling2d_27 (MaxPooli  (None, 14, 14, 128)       0         \n",
            " ng2D)                                                           \n",
            "                                                                 \n",
            " conv2d_23 (Conv2D)          (None, 12, 12, 256)       295168    \n",
            "                                                                 \n",
            " max_pooling2d_28 (MaxPooli  (None, 6, 6, 256)         0         \n",
            " ng2D)                                                           \n",
            "                                                                 \n",
            " flatten_7 (Flatten)         (None, 9216)              0         \n",
            "                                                                 \n",
            " dense_16 (Dense)            (None, 1024)              9438208   \n",
            "                                                                 \n",
            " dropout_9 (Dropout)         (None, 1024)              0         \n",
            "                                                                 \n",
            " dense_17 (Dense)            (None, 512)               524800    \n",
            "                                                                 \n",
            " dropout_10 (Dropout)        (None, 512)               0         \n",
            "                                                                 \n",
            " dense_18 (Dense)            (None, 6)                 3078      \n",
            "                                                                 \n",
            "=================================================================\n",
            "Total params: 10336902 (39.43 MB)\n",
            "Trainable params: 10336902 (39.43 MB)\n",
            "Non-trainable params: 0 (0.00 Byte)\n",
            "_________________________________________________________________\n"
          ]
        }
      ]
    },
    {
      "cell_type": "markdown",
      "source": [
        "Vamos a pasar a medir con 19 épocas cuánto de accuracy podemos llegar a obtener en el contexto del modelo relu."
      ],
      "metadata": {
        "id": "nsSySs3c6d3n"
      }
    },
    {
      "cell_type": "code",
      "source": [
        "history=model.fit(X, y, epochs=19, validation_split = 0.2)"
      ],
      "metadata": {
        "colab": {
          "base_uri": "https://localhost:8080/"
        },
        "id": "Gr3fq5RQ1krZ",
        "outputId": "7b70ee47-7d31-4041-e2ce-1cfe46c1c9c8"
      },
      "execution_count": 109,
      "outputs": [
        {
          "output_type": "stream",
          "name": "stdout",
          "text": [
            "Epoch 1/19\n",
            "12/12 [==============================] - 12s 875ms/step - loss: 1.9128 - accuracy: 0.2022 - val_loss: 1.7949 - val_accuracy: 0.1667\n",
            "Epoch 2/19\n",
            "12/12 [==============================] - 8s 692ms/step - loss: 1.7894 - accuracy: 0.1798 - val_loss: 1.7841 - val_accuracy: 0.2111\n",
            "Epoch 3/19\n",
            "12/12 [==============================] - 10s 813ms/step - loss: 1.7810 - accuracy: 0.1742 - val_loss: 1.7841 - val_accuracy: 0.2444\n",
            "Epoch 4/19\n",
            "12/12 [==============================] - 10s 850ms/step - loss: 1.7690 - accuracy: 0.2051 - val_loss: 1.7748 - val_accuracy: 0.2333\n",
            "Epoch 5/19\n",
            "12/12 [==============================] - 8s 692ms/step - loss: 1.7455 - accuracy: 0.2275 - val_loss: 1.7381 - val_accuracy: 0.2444\n",
            "Epoch 6/19\n",
            "12/12 [==============================] - 10s 829ms/step - loss: 1.7370 - accuracy: 0.2275 - val_loss: 1.7748 - val_accuracy: 0.2000\n",
            "Epoch 7/19\n",
            "12/12 [==============================] - 10s 868ms/step - loss: 1.6876 - accuracy: 0.2275 - val_loss: 1.6923 - val_accuracy: 0.4667\n",
            "Epoch 8/19\n",
            "12/12 [==============================] - 8s 680ms/step - loss: 1.6559 - accuracy: 0.2921 - val_loss: 1.7064 - val_accuracy: 0.3889\n",
            "Epoch 9/19\n",
            "12/12 [==============================] - 10s 847ms/step - loss: 1.5584 - accuracy: 0.3455 - val_loss: 1.5686 - val_accuracy: 0.5111\n",
            "Epoch 10/19\n",
            "12/12 [==============================] - 10s 839ms/step - loss: 1.3816 - accuracy: 0.4129 - val_loss: 1.5546 - val_accuracy: 0.4000\n",
            "Epoch 11/19\n",
            "12/12 [==============================] - 8s 672ms/step - loss: 1.2239 - accuracy: 0.5393 - val_loss: 1.5299 - val_accuracy: 0.4778\n",
            "Epoch 12/19\n",
            "12/12 [==============================] - 10s 858ms/step - loss: 1.1495 - accuracy: 0.5337 - val_loss: 1.4329 - val_accuracy: 0.5333\n",
            "Epoch 13/19\n",
            "12/12 [==============================] - 9s 773ms/step - loss: 0.9595 - accuracy: 0.6629 - val_loss: 1.7196 - val_accuracy: 0.4444\n",
            "Epoch 14/19\n",
            "12/12 [==============================] - 9s 696ms/step - loss: 0.8575 - accuracy: 0.6966 - val_loss: 1.4927 - val_accuracy: 0.5222\n",
            "Epoch 15/19\n",
            "12/12 [==============================] - 10s 839ms/step - loss: 0.6887 - accuracy: 0.7416 - val_loss: 1.5785 - val_accuracy: 0.5667\n",
            "Epoch 16/19\n",
            "12/12 [==============================] - 9s 769ms/step - loss: 0.6122 - accuracy: 0.7781 - val_loss: 1.6112 - val_accuracy: 0.5333\n",
            "Epoch 17/19\n",
            "12/12 [==============================] - 9s 735ms/step - loss: 0.6182 - accuracy: 0.7781 - val_loss: 1.7791 - val_accuracy: 0.5222\n",
            "Epoch 18/19\n",
            "12/12 [==============================] - 10s 843ms/step - loss: 0.4669 - accuracy: 0.8202 - val_loss: 2.0425 - val_accuracy: 0.4889\n",
            "Epoch 19/19\n",
            "12/12 [==============================] - 9s 757ms/step - loss: 0.4056 - accuracy: 0.8792 - val_loss: 1.9167 - val_accuracy: 0.5000\n"
          ]
        }
      ]
    },
    {
      "cell_type": "markdown",
      "source": [
        "Lo siguiente sería crear las gráficas de precisión y de pérdida para comparar si hay una evolución en train o en val."
      ],
      "metadata": {
        "id": "mqALOF5fIDpT"
      }
    },
    {
      "cell_type": "code",
      "source": [
        "def plot_acc(history, title=\"Model Accuracy\"):\n",
        "  \"\"\"Imprime una gráfica mostrando la accuracy por epoch obtenida en un entrenamiento\"\"\"\n",
        "  plt.plot(history.history['accuracy'])\n",
        "  plt.plot(history.history['val_accuracy'])\n",
        "  plt.title(title)\n",
        "  plt.ylabel('Accuracy')\n",
        "  plt.xlabel('Epoch')\n",
        "  plt.legend(['Train', 'Val'], loc='upper left')\n",
        "  plt.show()\n",
        "def plot_loss(history, title=\"Model Loss\"):\n",
        "  \"\"\"Imprime una gráfica mostrando la pérdida por epoch obtenida en un entrenamiento\"\"\"\n",
        "  plt.plot(history.history['loss'])\n",
        "  plt.plot(history.history['val_loss'])\n",
        "  plt.title(title)\n",
        "  plt.ylabel('Loss')\n",
        "  plt.xlabel('Epoch')\n",
        "  plt.legend(['Train', 'Val'], loc='upper right')\n",
        "  plt.show()"
      ],
      "metadata": {
        "id": "aJ3W6gfl1xwV"
      },
      "execution_count": 110,
      "outputs": []
    },
    {
      "cell_type": "code",
      "source": [
        "plot_acc(history)"
      ],
      "metadata": {
        "colab": {
          "base_uri": "https://localhost:8080/",
          "height": 472
        },
        "id": "4dja4Br21yvT",
        "outputId": "8cfdcbbf-d16d-45d9-c9ee-1b902d468e54"
      },
      "execution_count": 111,
      "outputs": [
        {
          "output_type": "display_data",
          "data": {
            "text/plain": [
              "<Figure size 640x480 with 1 Axes>"
            ],
            "image/png": "[encoded data removed]"
          },
          "metadata": {}
        }
      ]
    },
    {
      "cell_type": "markdown",
      "source": [
        "En este caso, a más épocas, más se aumenta la precisión tanto en los valores de entrenamiento como en los de validación"
      ],
      "metadata": {
        "id": "wJ8AISUCIN0E"
      }
    },
    {
      "cell_type": "code",
      "source": [
        "plot_loss(history)"
      ],
      "metadata": {
        "colab": {
          "base_uri": "https://localhost:8080/",
          "height": 472
        },
        "id": "NbcRIcaE10wd",
        "outputId": "c715035f-2f68-45ba-9ae4-426e7998c407"
      },
      "execution_count": 112,
      "outputs": [
        {
          "output_type": "display_data",
          "data": {
            "text/plain": [
              "<Figure size 640x480 with 1 Axes>"
            ],
            "image/png": "[encoded data removed]"
          },
          "metadata": {}
        }
      ]
    },
    {
      "cell_type": "markdown",
      "source": [
        "Sin embargo en este caso vemos como a más épocas, menos pérdidas tenemos en los datos de entrenamiento pero más pérdida tenemos en validación"
      ],
      "metadata": {
        "id": "h7Rfn78RIYq5"
      }
    },
    {
      "cell_type": "code",
      "source": [
        "model.evaluate(X_t, y_t, batch_size=32, verbose=1)"
      ],
      "metadata": {
        "colab": {
          "base_uri": "https://localhost:8080/"
        },
        "id": "CuGREIPe12qe",
        "outputId": "704b7dfc-7d77-4103-f8c2-1b141e40e085"
      },
      "execution_count": 113,
      "outputs": [
        {
          "output_type": "stream",
          "name": "stdout",
          "text": [
            "4/4 [==============================] - 1s 136ms/step - loss: 2.5978 - accuracy: 0.4771\n"
          ]
        },
        {
          "output_type": "execute_result",
          "data": {
            "text/plain": [
              "[2.597752332687378, 0.47706422209739685]"
            ]
          },
          "metadata": {},
          "execution_count": 113
        }
      ]
    },
    {
      "cell_type": "markdown",
      "source": [
        "Ahora nos tocaría hacer el correspondiente predict después de haber conseguido realizar nuestro fit."
      ],
      "metadata": {
        "id": "eseqbUQqIu-g"
      }
    },
    {
      "cell_type": "code",
      "source": [
        "prediccion=model.predict(X_t, batch_size=32, verbose=1)  # Almacenamos todas las predicciones para los datos de test"
      ],
      "metadata": {
        "colab": {
          "base_uri": "https://localhost:8080/"
        },
        "id": "JWNdQcpq14r_",
        "outputId": "65876c40-813c-45be-c168-51a0fb4142a6"
      },
      "execution_count": 114,
      "outputs": [
        {
          "output_type": "stream",
          "name": "stdout",
          "text": [
            "4/4 [==============================] - 1s 223ms/step\n"
          ]
        }
      ]
    },
    {
      "cell_type": "code",
      "source": [
        "print(prediccion)\n",
        "prediccion.shape"
      ],
      "metadata": {
        "id": "C2YqBXiy161G"
      },
      "execution_count": null,
      "outputs": []
    },
    {
      "cell_type": "code",
      "source": [
        "print(prediccion[0]) # Ejemplo de predicción para el primer elemento del test.\n",
        "predicho = np.argmax(prediccion[0])  # Nos quedamos con la posición del valor máximo de las estimaciones de probabilidad para cada una de las 18 clases.\n",
        "print(predicho)\n",
        "print(MAP_CHARACTERS[predicho]) # Acceso al diccionario para mostrar el nombre del personaje predicho."
      ],
      "metadata": {
        "colab": {
          "base_uri": "https://localhost:8080/"
        },
        "id": "zWXUd1kB18zp",
        "outputId": "fabf3bd5-b008-49fd-8916-a9bb0bcc93db"
      },
      "execution_count": 116,
      "outputs": [
        {
          "output_type": "stream",
          "name": "stdout",
          "text": [
            "[6.7799783e-01 2.7850163e-01 3.3689321e-05 9.6594176e-04 4.2463455e-02\n",
            " 3.7519014e-05]\n",
            "0\n",
            "Bishop\n"
          ]
        }
      ]
    },
    {
      "cell_type": "code",
      "source": [
        "y_t.shape"
      ],
      "metadata": {
        "id": "aaXSb_O42BSQ"
      },
      "execution_count": null,
      "outputs": []
    },
    {
      "cell_type": "markdown",
      "source": [
        "Finalmente vamos a pintar una matriz de confusión en la que estableceremos cuántas imágenes realmente se han asignado bien a cada subcarpeta y cuántas son falsos positivos o falsos negativos."
      ],
      "metadata": {
        "id": "EdNNJIONJnQY"
      }
    },
    {
      "cell_type": "code",
      "source": [
        "import seaborn as sns\n",
        "import matplotlib.pyplot as plt\n",
        "\n",
        "# Creamos la matriz de confusión con los nombres de las piezas de ajedrez como etiquetas\n",
        "etiquetas_personalizadas = ['Bishop', 'Knight', 'Rook', 'Pawn', 'Queen', 'King']\n",
        "conf_matrix_df = pd.DataFrame(conf_matrix, index=etiquetas_personalizadas, columns=etiquetas_personalizadas)\n",
        "\n",
        "# Creamos el mapa de calor\n",
        "plt.figure(figsize=(10, 7))\n",
        "sns.heatmap(conf_matrix_df, annot=True, cmap='Blues', fmt='g')\n",
        "\n",
        "# Añadimos etiquetas y título\n",
        "plt.xlabel('Predicciones')\n",
        "plt.ylabel('Etiquetas Verdaderas')\n",
        "plt.title('Matriz de Confusión')\n",
        "\n",
        "# Mostramos el mapa de calor\n",
        "plt.show()\n"
      ],
      "metadata": {
        "colab": {
          "base_uri": "https://localhost:8080/",
          "height": 641
        },
        "id": "c3jw0yVt2FDY",
        "outputId": "9118034f-4a28-48c2-f528-7c79b8f66f6c"
      },
      "execution_count": 117,
      "outputs": [
        {
          "output_type": "display_data",
          "data": {
            "text/plain": [
              "<Figure size 1000x700 with 2 Axes>"
            ],
            "image/png": "[encoded data removed]"
          },
          "metadata": {}
        }
      ]
    }
  ]
}